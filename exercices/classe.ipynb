{
 "cells": [
  {
   "cell_type": "code",
   "execution_count": 63,
   "metadata": {},
   "outputs": [],
   "source": [
    "# class Voitures:\n",
    "\n",
    "#     def __init__(self, mat, roues) -> None:\n",
    "#         self.carburant = \"nondefinie\"\n",
    "#         self.fer = mat\n",
    "#         self.4 = roues\n",
    "\n",
    "# class VoituresEssence(Voitures):\n",
    "#     def __init__(self, mat, roues) -> None:\n",
    "#         super().__init__(mat, roues)\n",
    "#     def carburant(self)\n",
    "#         self.Essence = carburant\n",
    "#     def __str__(self) -> str:\n",
    "#         return super().__str__(), {\"Voiture Essence\"}\n",
    "\n",
    "# class VoituresDiesel(Voitures):\n",
    "#     def __init__(self, mat, roues) -> None:\n",
    "#         super().__init__(mat)\n",
    "#     def carburant(self)\n",
    "#         self.Diesel = carburant\n",
    "#         return super().__str__(), {\"Voiture Diesel\"}\n",
    "\n",
    "# class VoituresEthanol(Voitures):\n",
    "#     def __init__(self, mat, roues) -> None:\n",
    "#         super().__init__(mat, roues)\n",
    "#     def carburant(self)\n",
    "#         self.Ethanol = carburant\n",
    "#         return super().__str__(), {\"Voiture Ethanol\"}\n",
    "    \n",
    "# class VoituresElectrique(Voitures):\n",
    "#     def __init__(self, mat, roues) -> None:\n",
    "#         super().__init__(mat, roues)\n",
    "#     def carburant(sel)\n",
    "#         self.Electrique = carburant\n",
    "#         return super().__str__(), {\"Voiture Electrique\"}\n",
    "\n",
    "\n",
    "    \n"
   ]
  },
  {
   "cell_type": "code",
   "execution_count": 64,
   "metadata": {},
   "outputs": [],
   "source": [
    "# class my_property:\n",
    "#     def __init__(self, fget, fset, fdel):\n",
    "#         self.fget = fget\n",
    "#         self.fset = fset\n",
    "#         self.fdel = fdel\n",
    "\n",
    "#     def __get__(self, instance, owner):\n",
    "#         return self.fget(instance)\n",
    "\n",
    "#     def __set__(self, instance, value):\n",
    "#         return self.fset(instance, value)\n",
    "\n",
    "#     def __delete__(self, instance):\n",
    "#         return self.fdel(instance)"
   ]
  },
  {
   "cell_type": "code",
   "execution_count": 65,
   "metadata": {},
   "outputs": [],
   "source": [
    "    # def __init__(self, fget=None, fset=None, fdel=None, doc=None):\n",
    "    #     if doc is None and fget is not None:\n",
    "    #         doc = getattr(fget, '__doc__', None)\n",
    "    #     self.fget, self.fset, self.fdel = fget, fset, fdel\n",
    "    #     self.__doc__ = doc"
   ]
  },
  {
   "cell_type": "code",
   "execution_count": 66,
   "metadata": {},
   "outputs": [],
   "source": [
    "    # def __get__(self, instance, owner):\n",
    "    #     'Return an attribute of instance, which is of type owner.'\n",
    "    #     if instance is None:\n",
    "    #         return self\n",
    "    #     if self.fget is None:\n",
    "    #         raise AttributeError('unreadable attribute')\n",
    "    #     return self.fget(instance)\n",
    "\n",
    "    # def __set__(self, instance, value):\n",
    "    #     'Set an attribute of instance to value.'\n",
    "    #     if self.fset is None:\n",
    "    #         raise AttributeError(\"can't set attribute\")\n",
    "    #     return self.fset(instance, value)\n",
    "\n",
    "    # def __delete__(self, instance):\n",
    "    #     'Delete an attribute of instance.'\n",
    "    #     if self.fdel is None:\n",
    "    #         raise AttributeError(\"can't delete attribute\")\n",
    "    #     return self.fdel(instance)"
   ]
  },
  {
   "cell_type": "code",
   "execution_count": 67,
   "metadata": {},
   "outputs": [],
   "source": [
    "    # def getter(self, fget):\n",
    "    #     'Descriptor to change the getter on a property.'\n",
    "    #     if fget is None:\n",
    "    #         return self\n",
    "    #     return type(self)(fget, self.fset, self.fdel, self.__doc__)\n",
    "\n",
    "    # def setter(self, fset):\n",
    "    #     'Descriptor to change the setter on a property.'\n",
    "    #     if fset is None:\n",
    "    #         return self\n",
    "    #     return type(self)(self.fget, fset, self.fdel, self.__doc__)\n",
    "\n",
    "    # def deleter(self, fdel):\n",
    "    #     'Descriptor to change the deleter on a property.'\n",
    "    #     if fdel is None:\n",
    "    #         return self\n",
    "    #     return type(self)(self.fget, self.fset, fdel, self.__doc__)"
   ]
  },
  {
   "cell_type": "code",
   "execution_count": 68,
   "metadata": {},
   "outputs": [],
   "source": [
    "class my_property:\n",
    "    '''\n",
    "    my_property(fget=None, fset=None, fdel=None, doc=None) -> property attribute\n",
    "\n",
    "    fget is a function to be used for getting an attribute value, and likewise\n",
    "    fset is a function for setting, and fdel a function for del'ing, an\n",
    "    attribute.  Typical use is to define a managed attribute x:\n",
    "\n",
    "    class C(object):\n",
    "        def getx(self): return self._x\n",
    "        def setx(self, value): self._x = value\n",
    "        def delx(self): del self._x\n",
    "        x = my_property(getx, setx, delx, \"I'm the 'x' property.\")\n",
    "\n",
    "    Decorators make defining new properties or modifying existing ones easy:\n",
    "\n",
    "    class C(object):\n",
    "        @my_property\n",
    "        def x(self):\n",
    "            \"I am the 'x' property.\"\n",
    "            return self._x\n",
    "        @x.setter\n",
    "        def x(self, value):\n",
    "            self._x = value\n",
    "        @x.deleter\n",
    "        def x(self):\n",
    "            del self._x\n",
    "    '''\n",
    "\n",
    "    def __init__(self, fget=None, fset=None, fdel=None, doc=None):\n",
    "        if doc is None and fget is not None:\n",
    "            doc = getattr(fget, '__doc__', None)\n",
    "        self.fget, self.fset, self.fdel = fget, fset, fdel\n",
    "        self.__doc__ = doc\n",
    "\n",
    "    def __get__(self, instance, owner):\n",
    "        'Return an attribute of instance, which is of type owner.'\n",
    "        if instance is None:\n",
    "            return self\n",
    "        if self.fget is None:\n",
    "            raise AttributeError('unreadable attribute')\n",
    "        return self.fget(instance)\n",
    "\n",
    "    def __set__(self, instance, value):\n",
    "        'Set an attribute of instance to value.'\n",
    "        if self.fset is None:\n",
    "            raise AttributeError(\"can't set attribute\")\n",
    "        return self.fset(instance, value)\n",
    "\n",
    "    def __delete__(self, instance):\n",
    "        'Delete an attribute of instance.'\n",
    "        if self.fdel is None:\n",
    "            raise AttributeError(\"can't delete attribute\")\n",
    "        return self.fdel(instance)\n",
    "\n",
    "    def getter(self, fget):\n",
    "        'Descriptor to change the getter on a property.'\n",
    "        if fget is None:\n",
    "            return self\n",
    "        return type(self)(fget, self.fset, self.fdel, self.__doc__)\n",
    "\n",
    "    def setter(self, fset):\n",
    "        'Descriptor to change the setter on a property.'\n",
    "        if fset is None:\n",
    "            return self\n",
    "        return type(self)(self.fget, fset, self.fdel, self.__doc__)\n",
    "\n",
    "    def deleter(self, fdel):\n",
    "        'Descriptor to change the deleter on a property.'\n",
    "        if fdel is None:\n",
    "            return self\n",
    "        return type(self)(self.fget, self.fset, fdel, self.__doc__)\n",
    "    \n",
    "    class Distance:\n",
    "    def __init__(self):\n",
    "        self.value = 0\n",
    "\n",
    "    @my_property\n",
    "    def kilometre(self):\n",
    "        return self.value\n",
    "    @kilometre.setter\n",
    "    def kilometre(self, value):\n",
    "        self.value = value\n",
    "    \n",
    "    @my_property\n",
    "    def miles(self):\n",
    "        return self.value * 0.621371\n",
    "    @miles.setter\n",
    "    def miles(self, value):\n",
    "        self.value = value / 0.621371"
   ]
  },
  {
   "cell_type": "code",
   "execution_count": 69,
   "metadata": {},
   "outputs": [],
   "source": [
    "class Distance:\n",
    "    def __init__(self):\n",
    "        self.value = 0\n",
    "\n",
    "    @my_property\n",
    "    def kilometre(self):\n",
    "        return self.value\n",
    "    @kilometre.setter\n",
    "    def kilometre(self, value):\n",
    "        self.value = value\n",
    "    \n",
    "    @my_property\n",
    "    def miles(self):\n",
    "        return self.value * 0.621371\n",
    "    @miles.setter\n",
    "    def miles(self, value):\n",
    "        self.value = value / 0.621371"
   ]
  },
  {
   "cell_type": "code",
   "execution_count": 70,
   "metadata": {},
   "outputs": [
    {
     "data": {
      "text/plain": [
       "0"
      ]
     },
     "execution_count": 70,
     "metadata": {},
     "output_type": "execute_result"
    }
   ],
   "source": [
    "t = Distance()\n",
    "t.kilometre"
   ]
  },
  {
   "cell_type": "code",
   "execution_count": 71,
   "metadata": {},
   "outputs": [],
   "source": [
    "t.kilometre = 1000"
   ]
  },
  {
   "cell_type": "code",
   "execution_count": 72,
   "metadata": {},
   "outputs": [
    {
     "data": {
      "text/plain": [
       "1000"
      ]
     },
     "execution_count": 72,
     "metadata": {},
     "output_type": "execute_result"
    }
   ],
   "source": [
    "t.kilometre"
   ]
  },
  {
   "cell_type": "code",
   "execution_count": 73,
   "metadata": {},
   "outputs": [
    {
     "data": {
      "text/plain": [
       "621.371"
      ]
     },
     "execution_count": 73,
     "metadata": {},
     "output_type": "execute_result"
    }
   ],
   "source": [
    "t.miles"
   ]
  }
 ],
 "metadata": {
  "kernelspec": {
   "display_name": "base",
   "language": "python",
   "name": "python3"
  },
  "language_info": {
   "codemirror_mode": {
    "name": "ipython",
    "version": 3
   },
   "file_extension": ".py",
   "mimetype": "text/x-python",
   "name": "python",
   "nbconvert_exporter": "python",
   "pygments_lexer": "ipython3",
   "version": "3.11.5"
  }
 },
 "nbformat": 4,
 "nbformat_minor": 2
}
