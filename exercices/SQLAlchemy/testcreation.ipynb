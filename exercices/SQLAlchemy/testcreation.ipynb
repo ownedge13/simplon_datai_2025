{
 "cells": [
  {
   "cell_type": "code",
   "execution_count": null,
   "metadata": {},
   "outputs": [],
   "source": [
    "from sqlalchemy.orm import declarative_base\n",
    "from sqlalchemy import create_engine\n",
    "\n",
    "# Création de la base de données\n",
    "Base = declarative_base()\n",
    "\n",
    "# Déclaration du moteur de base de données\n",
    "engine = create_engine('sqlite:///tmpdb.sqlite', echo=True)\n"
   ]
  },
  {
   "cell_type": "markdown",
   "metadata": {},
   "source": [
    "créer, vérifier, supprimer,recréer"
   ]
  },
  {
   "cell_type": "code",
   "execution_count": null,
   "metadata": {},
   "outputs": [],
   "source": [
    "from sqlalchemy_utils import database_exists, drop_database, create_database\n",
    "\n",
    "if database_exists(engine.url):\n",
    "    drop_database(engine.url)    \n",
    "\n",
    "create_database(engine.url)\n",
    "\n",
    "if database_exists(engine.url):\n",
    "    print(f\"La base de données '{engine.url}' existe.\")\n",
    "else:\n",
    "    print(f\"La base de données '{engine.url}' n'existe pas.\")"
   ]
  },
  {
   "cell_type": "markdown",
   "metadata": {},
   "source": [
    "Créer une table"
   ]
  },
  {
   "cell_type": "code",
   "execution_count": null,
   "metadata": {},
   "outputs": [],
   "source": [
    "from sqlalchemy import Column, Integer, String, Float\n",
    "from sqlalchemy.orm import sessionmaker\n",
    "\n",
    "# Créez une base déclarative\n",
    "Base = declarative_base()\n",
    "\n",
    "# Définissez la classe Product pour la table \"products\"\n",
    "class Product(Base):\n",
    "    __tablename__ = \"products\"\n",
    "    id = Column(Integer, primary_key=True)\n",
    "    name = Column(String(255))\n",
    "    price = Column(Float)\n",
    "\n",
    "# Créez la table \"products\" dans la base de données\n",
    "Base.metadata.create_all(engine)\n",
    "\n",
    "# Créez une session pour interagir avec la base de données\n",
    "Session = sessionmaker(bind=engine)\n",
    "session = Session()"
   ]
  },
  {
   "cell_type": "markdown",
   "metadata": {},
   "source": [
    "Insérer des données"
   ]
  },
  {
   "cell_type": "code",
   "execution_count": null,
   "metadata": {},
   "outputs": [],
   "source": [
    "# Créez une session\n",
    "Session = sessionmaker(bind=engine)\n",
    "session = Session()\n",
    "\n",
    "# Créez les objets Product avec les données à insérer\n",
    "product1 = Product(id=1, name=\"Produit_1\", price=100)\n",
    "product2 = Product(id=2, name=\"Produit_2\", price=200)\n",
    "\n",
    "# Ajoutez les objets à la session et commettez les changements\n",
    "session.add(product1)\n",
    "session.add(product2)\n",
    "session.commit()\n",
    "\n",
    "# Fermez la session\n",
    "session.close()"
   ]
  },
  {
   "cell_type": "code",
   "execution_count": null,
   "metadata": {},
   "outputs": [],
   "source": [
    "query = session.query(Product)\n",
    "\n",
    "# Utilisez la méthode all() pour récupérer tous les résultats de la requête\n",
    "products = query.all()\n",
    "\n",
    "# Affichez les résultats\n",
    "for product in products:\n",
    "    print(f\"ID: {product.id}, Name: {product.name}, Price: {product.price}\")\n",
    "\n",
    "# Fermez la session\n",
    "session.close()"
   ]
  },
  {
   "cell_type": "code",
   "execution_count": null,
   "metadata": {},
   "outputs": [],
   "source": [
    "from sqlalchemy import create_engine, Column, Integer, String, Float, ForeignKey\n",
    "from sqlalchemy.orm import sessionmaker, relationship, declarative_base\n",
    "\n",
    "# Créez une connexion à la base de données\n",
    "engine = create_engine('sqlite:///tmpdb.sqlite')\n",
    "\n",
    "# Créez une session\n",
    "Session = sessionmaker(bind=engine)\n",
    "session = Session()\n",
    "\n",
    "# Créez une base déclarative\n",
    "Base = declarative_base()\n",
    "\n",
    "# Définissez la classe Product pour la table \"products\"\n",
    "class Product(Base):\n",
    "    __tablename__ = \"products\"\n",
    "    id = Column(Integer, primary_key=True, autoincrement=True)\n",
    "    name = Column(String(255))\n",
    "    price = Column(Float)\n",
    "\n",
    "# Définissez la classe Customer pour la table \"customers\"\n",
    "class Customer(Base):\n",
    "    __tablename__ = \"customers\"\n",
    "    id = Column(Integer, primary_key=True, autoincrement=True)\n",
    "    name = Column(String(255))\n",
    "    email = Column(String(255))\n",
    "\n",
    "# Définissez la classe Order pour la table \"orders\"\n",
    "class Order(Base):\n",
    "    __tablename__ = \"orders\"\n",
    "    id = Column(Integer, primary_key=True, autoincrement=True)\n",
    "    product_id = Column(Integer, ForeignKey('products.id'))\n",
    "    customer_id = Column(Integer, ForeignKey('customers.id'))\n",
    "    product = relationship(\"Product\", back_populates=\"orders\")\n",
    "    customer = relationship(\"Customer\", back_populates=\"orders\")\n",
    "\n",
    "# Utilisez la méthode create_all() pour créer les tables\n",
    "Base.metadata.create_all(engine)\n",
    "\n",
    "# Fermez la session\n",
    "session.close()"
   ]
  },
  {
   "cell_type": "code",
   "execution_count": null,
   "metadata": {},
   "outputs": [],
   "source": [
    "# Créez une connexion à la base de données\n",
    "engine = create_engine('sqlite:///tmpdb.sqlite')\n",
    "\n",
    "# Créez une session\n",
    "Session = sessionmaker(bind=engine)\n",
    "session = Session()\n",
    "\n",
    "# Créez les objets Product avec les données à insérer\n",
    "\n",
    "productstest = [\n",
    "    {\"id\": 1, \"name\": \"Produit_1\", \"price\": 100},\n",
    "    {\"id\": 2, \"name\": \"Produit_2\", \"price\": 200},\n",
    "]\n",
    "\n",
    "customerstest = [\n",
    "    {\"id\": 1, \"name\": \"user_1\", \"email\": \"u1@u.fr\"},\n",
    "    {\"id\": 2, \"name\": \"user_2\", \"email\": \"u2@u.fr\"},\n",
    "]\n",
    "\n",
    "orderstest = [\n",
    "    {\"id\": 1, \"customer_id\": 1, \"product_id\": 1},\n",
    "    {\"id\": 2, \"customer_id\": 2, \"product_id\": 2},\n",
    "]\n",
    "\n",
    "# Ajoutez les objets à la session et commettez les changements\n",
    "\n",
    "user_objects1 = [Product(**product) for product in productstest]\n",
    "session.add_all(user_objects1)\n",
    "\n",
    "user_objects2 = [Customer(**customer) for customer in customerstest]\n",
    "session.add_all(user_objects2)\n",
    "\n",
    "user_objects3 = [Order(**order) for order in orderstest]\n",
    "session.add_all(user_objects3)\n",
    "\n",
    "session.commit()\n",
    "\n",
    "# Fermez la session\n",
    "session.close()"
   ]
  },
  {
   "cell_type": "code",
   "execution_count": null,
   "metadata": {},
   "outputs": [],
   "source": [
    "# Affichez les résultats\n",
    "for product in products:\n",
    "    print(f\"ID: {product.id}, Name: {product.name}, Price: {product.price}\")\n",
    "# Affichez les résultats\n",
    "for customer in customers:\n",
    "    print(f\"ID: {customer.id}, Name: {customer.name}, Price: {customer.price}\")\n",
    "# Affichez les résultats\n",
    "for product in products:\n",
    "    print(f\"ID: {product.id}, Name: {product.name}, Price: {product.price}\")"
   ]
  }
 ],
 "metadata": {
  "kernelspec": {
   "display_name": "base",
   "language": "python",
   "name": "python3"
  },
  "language_info": {
   "codemirror_mode": {
    "name": "ipython",
    "version": 3
   },
   "file_extension": ".py",
   "mimetype": "text/x-python",
   "name": "python",
   "nbconvert_exporter": "python",
   "pygments_lexer": "ipython3",
   "version": "3.11.5"
  }
 },
 "nbformat": 4,
 "nbformat_minor": 2
}
