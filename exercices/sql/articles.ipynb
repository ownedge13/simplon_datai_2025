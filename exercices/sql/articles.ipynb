{
 "cells": [
  {
   "cell_type": "code",
   "execution_count": 1,
   "metadata": {},
   "outputs": [],
   "source": [
    "import numpy as np\n",
    "import pandas as pd\n",
    "import csv\n",
    "import mysql.connector\n",
    "from sqlalchemy import create_engine"
   ]
  },
  {
   "cell_type": "markdown",
   "metadata": {},
   "source": [
    "lecture csv"
   ]
  },
  {
   "cell_type": "code",
   "execution_count": 2,
   "metadata": {},
   "outputs": [],
   "source": [
    "tablecsv = r'C:\\Users\\alaja\\simplon_datai_2025\\2\\Produits - Feuille 1.csv'\n",
    "articles = pd.read_csv(tablecsv)"
   ]
  },
  {
   "cell_type": "markdown",
   "metadata": {},
   "source": [
    "formatage pour table famille"
   ]
  },
  {
   "cell_type": "code",
   "execution_count": 4,
   "metadata": {},
   "outputs": [
    {
     "data": {
      "text/plain": [
       "\"('HUILES', 1), ('FROMAGES', 2), ('CREMERIE', 3), ('LAIT', 4), ('BEURRE ET MARGARINE', 5), ('CHARCUTERIE', 6), ('OEUFS ET DERIVES', 7), ('SAUCES ET CONDIMENTS', 8), ('FONDS ET SAUCES DESHYDRATES', 9), ('OLIVES', 10), ('CONSERVES LEGUMES ET PLATS PREPARES', 11), ('CONSERVES DE FRUITS', 12), ('FRUITS SECS', 13), ('CONFITURE - MIEL', 14), ('PRODUITS DE  PATISSERIE', 15), ('PRODUITS DE LA MER', 16), ('PATES ET AUTRES FECULENTS', 17), ('FARINE', 18), ('SUCRE', 19), ('CONFISERIE', 20), ('LEVURES', 21), ('VIANDE', 22), ('BISCOTTES ET DERIVES BISCUITS', 23), ('EPICES ET AROMATES', 24), ('CAFE THE CHOCOLAT', 25), ('BOISSONS DIVERSES', 26), ('ALCOOLS CHAMPAGNE MOUSSEUX VINS', 27), ('PRODUITS HYGIENE ET ENTRETIEN', 28), ('JETABLE', 29), ('SURGELES', 30)\""
      ]
     },
     "execution_count": 4,
     "metadata": {},
     "output_type": "execute_result"
    }
   ],
   "source": [
    " famart = articles[\"FAMILLE ARTICLE\"]\n",
    " e = famart.drop_duplicates().to_list()\n",
    "famille_d=dict((famillefinal, i+1) for i,famillefinal in enumerate(e))\n",
    "\n",
    "famille_final = [f\"{famille_d}\" for famille_d in famille_d.items()]\n",
    "\n",
    "resultat_final = ', '.join(famille_final)\n",
    "resultat_final"
   ]
  },
  {
   "cell_type": "markdown",
   "metadata": {},
   "source": [
    "inserer data dans table famille"
   ]
  },
  {
   "cell_type": "code",
   "execution_count": 47,
   "metadata": {},
   "outputs": [],
   "source": [
    "#inserer data dans table famille_articles_id\n",
    "import mysql.connector\n",
    "db = mysql.connector.connect(\n",
    "  host = \"localhost\",\n",
    "  user = \"root\",\n",
    "  password = \"root\",\n",
    "  database = \"articles_db\"\n",
    ")\n",
    "cur = db.cursor()\n",
    "sql = f\"INSERT INTO famille (FAMILLE, id) VALUES {resultat_final}\"\n",
    "cur.execute(sql)\n",
    "db.commit()"
   ]
  },
  {
   "cell_type": "markdown",
   "metadata": {},
   "source": [
    "formatage pour table conditionnement"
   ]
  },
  {
   "cell_type": "code",
   "execution_count": 6,
   "metadata": {},
   "outputs": [
    {
     "data": {
      "text/plain": [
       "\"('BIDON', 1), ('BOUTE', 2), ('FLACO', 3), ('SPRAY', 4), ('CARTO', 5), ('KG', 6), ('SAC', 7), ('PIECE', 8), ('SACHE', 9), ('BARQU', 10), ('BOITE', 11), ('UNI', 12), ('POT', 13), ('CAISS', 14), ('PAQUE', 15), ('BAC', 16), ('SEAU', 17), ('PACK', 18), ('BRICK', 19), ('PINGO', 20), ('SQUEE', 21), ('TUBE', 22), ('FARDE', 23), ('BOCAL', 24), ('POCHE', 25), ('BRK', 26), ('TUBO', 27), ('ETUI', 28), ('LOT', 29), ('COLIS', 30), ('PLATE', 31), ('BIB', 32)\""
      ]
     },
     "execution_count": 6,
     "metadata": {},
     "output_type": "execute_result"
    }
   ],
   "source": [
    "cond = articles[\"CONDITION\"]\n",
    "g = cond.drop_duplicates().to_list()\n",
    "cond_d=dict((cond_final, i+1) for i,cond_final in enumerate(g))\n",
    "\n",
    "cond_final = [f\"{cond_d}\" for cond_d in cond_d.items()]\n",
    "\n",
    "cond_final = ', '.join(cond_final)\n",
    "cond_final"
   ]
  },
  {
   "cell_type": "markdown",
   "metadata": {},
   "source": [
    "inserer data dans table conditionnement"
   ]
  },
  {
   "cell_type": "code",
   "execution_count": 50,
   "metadata": {},
   "outputs": [],
   "source": [
    "#inserer data dans table condition_id\n",
    "import mysql.connector\n",
    "db = mysql.connector.connect(\n",
    "  host = \"localhost\",\n",
    "  user = \"root\",\n",
    "  password = \"root\",\n",
    "  database = \"articles_db\"\n",
    ")\n",
    "cur = db.cursor()\n",
    "sql1 = f\"INSERT INTO conditionnement (conditionnement, id) VALUES {cond_final}\"\n",
    "cur.execute(sql1)\n",
    "db.commit()"
   ]
  },
  {
   "cell_type": "markdown",
   "metadata": {},
   "source": [
    "formatage pour la table famille"
   ]
  },
  {
   "cell_type": "code",
   "execution_count": 7,
   "metadata": {},
   "outputs": [
    {
     "data": {
      "text/html": [
       "<div>\n",
       "<style scoped>\n",
       "    .dataframe tbody tr th:only-of-type {\n",
       "        vertical-align: middle;\n",
       "    }\n",
       "\n",
       "    .dataframe tbody tr th {\n",
       "        vertical-align: top;\n",
       "    }\n",
       "\n",
       "    .dataframe thead th {\n",
       "        text-align: right;\n",
       "    }\n",
       "</style>\n",
       "<table border=\"1\" class=\"dataframe\">\n",
       "  <thead>\n",
       "    <tr style=\"text-align: right;\">\n",
       "      <th></th>\n",
       "      <th>Code_article</th>\n",
       "      <th>Libelle</th>\n",
       "      <th>Famille_ID</th>\n",
       "      <th>Conditionnement_ID</th>\n",
       "      <th>PU_HT</th>\n",
       "    </tr>\n",
       "  </thead>\n",
       "  <tbody>\n",
       "    <tr>\n",
       "      <th>0</th>\n",
       "      <td>1010</td>\n",
       "      <td>HUILE ARACHIDE 25 L</td>\n",
       "      <td>1</td>\n",
       "      <td>1</td>\n",
       "      <td>60.71</td>\n",
       "    </tr>\n",
       "    <tr>\n",
       "      <th>1</th>\n",
       "      <td>1011</td>\n",
       "      <td>HUILE ARACHIDE 5 L</td>\n",
       "      <td>1</td>\n",
       "      <td>1</td>\n",
       "      <td>14.33</td>\n",
       "    </tr>\n",
       "    <tr>\n",
       "      <th>2</th>\n",
       "      <td>1012</td>\n",
       "      <td>HUILE ARACHIDE 1 L</td>\n",
       "      <td>1</td>\n",
       "      <td>2</td>\n",
       "      <td>2.87</td>\n",
       "    </tr>\n",
       "    <tr>\n",
       "      <th>3</th>\n",
       "      <td>1014</td>\n",
       "      <td>HUILE MEZZO 1 L (50%OLIVE50%TOURNESOL)</td>\n",
       "      <td>1</td>\n",
       "      <td>2</td>\n",
       "      <td>2.67</td>\n",
       "    </tr>\n",
       "    <tr>\n",
       "      <th>4</th>\n",
       "      <td>1015</td>\n",
       "      <td>HUILE COLZA 5 L</td>\n",
       "      <td>1</td>\n",
       "      <td>1</td>\n",
       "      <td>7.57</td>\n",
       "    </tr>\n",
       "    <tr>\n",
       "      <th>...</th>\n",
       "      <td>...</td>\n",
       "      <td>...</td>\n",
       "      <td>...</td>\n",
       "      <td>...</td>\n",
       "      <td>...</td>\n",
       "    </tr>\n",
       "    <tr>\n",
       "      <th>1858</th>\n",
       "      <td>35885</td>\n",
       "      <td>QUICHES LORRAINE 180G X14</td>\n",
       "      <td>30</td>\n",
       "      <td>5</td>\n",
       "      <td>17.50</td>\n",
       "    </tr>\n",
       "    <tr>\n",
       "      <th>1859</th>\n",
       "      <td>35900</td>\n",
       "      <td>FARCIS NICOIS SG - SAC 2KG</td>\n",
       "      <td>30</td>\n",
       "      <td>5</td>\n",
       "      <td>51.52</td>\n",
       "    </tr>\n",
       "    <tr>\n",
       "      <th>1860</th>\n",
       "      <td>35920</td>\n",
       "      <td>RAVIOLIS A LA NICOISE SG 2KG</td>\n",
       "      <td>30</td>\n",
       "      <td>7</td>\n",
       "      <td>40.90</td>\n",
       "    </tr>\n",
       "    <tr>\n",
       "      <th>1861</th>\n",
       "      <td>37718</td>\n",
       "      <td>COOKIES CHOCOLAT SG 76G X30</td>\n",
       "      <td>30</td>\n",
       "      <td>5</td>\n",
       "      <td>29.65</td>\n",
       "    </tr>\n",
       "    <tr>\n",
       "      <th>1862</th>\n",
       "      <td>37720</td>\n",
       "      <td>COOKIES 3 CHOC LAIT EMB.INDIV.106GX30 SG</td>\n",
       "      <td>30</td>\n",
       "      <td>5</td>\n",
       "      <td>32.75</td>\n",
       "    </tr>\n",
       "  </tbody>\n",
       "</table>\n",
       "<p>1863 rows × 5 columns</p>\n",
       "</div>"
      ],
      "text/plain": [
       "      Code_article                                   Libelle  Famille_ID  \\\n",
       "0             1010                       HUILE ARACHIDE 25 L           1   \n",
       "1             1011                        HUILE ARACHIDE 5 L           1   \n",
       "2             1012                        HUILE ARACHIDE 1 L           1   \n",
       "3             1014    HUILE MEZZO 1 L (50%OLIVE50%TOURNESOL)           1   \n",
       "4             1015                           HUILE COLZA 5 L           1   \n",
       "...            ...                                       ...         ...   \n",
       "1858         35885                 QUICHES LORRAINE 180G X14          30   \n",
       "1859         35900                FARCIS NICOIS SG - SAC 2KG          30   \n",
       "1860         35920              RAVIOLIS A LA NICOISE SG 2KG          30   \n",
       "1861         37718               COOKIES CHOCOLAT SG 76G X30          30   \n",
       "1862         37720  COOKIES 3 CHOC LAIT EMB.INDIV.106GX30 SG          30   \n",
       "\n",
       "      Conditionnement_ID  PU_HT  \n",
       "0                      1  60.71  \n",
       "1                      1  14.33  \n",
       "2                      2   2.87  \n",
       "3                      2   2.67  \n",
       "4                      1   7.57  \n",
       "...                  ...    ...  \n",
       "1858                   5  17.50  \n",
       "1859                   5  51.52  \n",
       "1860                   7  40.90  \n",
       "1861                   5  29.65  \n",
       "1862                   5  32.75  \n",
       "\n",
       "[1863 rows x 5 columns]"
      ]
     },
     "execution_count": 7,
     "metadata": {},
     "output_type": "execute_result"
    }
   ],
   "source": [
    "articles['PU HT'] = articles['PU HT'].str.replace(',', '.')\n",
    "articles['FAMILLE ARTICLE'] = articles['FAMILLE ARTICLE'].factorize()[0] + 1\n",
    "articles['CONDITION'] = articles['CONDITION'].factorize()[0] + 1\n",
    "\n",
    "# Nouveaux noms de colonnes\n",
    "newcolonnes = ['Code_article', 'Libelle', 'Famille_ID', 'Conditionnement_ID', 'PU_HT']\n",
    "articles.columns = newcolonnes\n",
    "articles"
   ]
  },
  {
   "cell_type": "markdown",
   "metadata": {},
   "source": [
    "inserer data dans table principale"
   ]
  },
  {
   "cell_type": "code",
   "execution_count": 52,
   "metadata": {},
   "outputs": [
    {
     "data": {
      "text/plain": [
       "1863"
      ]
     },
     "execution_count": 52,
     "metadata": {},
     "output_type": "execute_result"
    }
   ],
   "source": [
    "# Paramètres de connexion MySQL\n",
    "host = 'localhost'\n",
    "user = 'root'\n",
    "password = 'root'\n",
    "database = 'articles_db'\n",
    "\n",
    "conn = mysql.connector.connect(host=host, user=user, password=password, database=database)\n",
    "\n",
    "nom_de_votre_table = 'principale'\n",
    "\n",
    "engine = create_engine(f'mysql+mysqlconnector://{user}:{password}@{host}/{database}')\n",
    "articles.to_sql(nom_de_votre_table, con=engine, if_exists='replace', index=False)\n",
    "conn.close()\n"
   ]
  }
 ],
 "metadata": {
  "kernelspec": {
   "display_name": "base",
   "language": "python",
   "name": "python3"
  },
  "language_info": {
   "codemirror_mode": {
    "name": "ipython",
    "version": 3
   },
   "file_extension": ".py",
   "mimetype": "text/x-python",
   "name": "python",
   "nbconvert_exporter": "python",
   "pygments_lexer": "ipython3",
   "version": "3.11.4"
  },
  "orig_nbformat": 4
 },
 "nbformat": 4,
 "nbformat_minor": 2
}
