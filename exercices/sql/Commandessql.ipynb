{
 "cells": [
  {
   "cell_type": "code",
   "execution_count": null,
   "metadata": {},
   "outputs": [],
   "source": [
    "import numpy as np\n",
    "import pandas as pd\n",
    "import csv\n",
    "import mysql.connector\n",
    "from sqlalchemy import create_engine"
   ]
  },
  {
   "cell_type": "code",
   "execution_count": null,
   "metadata": {},
   "outputs": [],
   "source": [
    "commandescsv = r'C:\\Users\\alaja\\simplon_datai_2025\\2\\sql\\Commandes.csv'\n",
    "data_commandes = pd.read_csv(commandescsv)"
   ]
  },
  {
   "cell_type": "code",
   "execution_count": null,
   "metadata": {},
   "outputs": [],
   "source": [
    "newcolonnes = ['ID', 'ID_Client', 'Nom_Client', 'Prenom_Client', 'Adresse_Client', 'Ville_Client', 'Pays_Client', 'Email_Client', 'ID_Commande', 'Date_Commande', 'Montant_Commande', 'ID_Produit', 'Nom_Produit', 'Categorie_Produit', 'Adresse_Magasin', 'Ville_Magasin', 'Pays_Magasin',]\n",
    "data_commandes.columns = newcolonnes\n",
    "data_commandes"
   ]
  },
  {
   "cell_type": "code",
   "execution_count": 78,
   "metadata": {},
   "outputs": [
    {
     "data": {
      "text/plain": [
       "7"
      ]
     },
     "execution_count": 78,
     "metadata": {},
     "output_type": "execute_result"
    }
   ],
   "source": [
    "data_commandes['Pays_Magasin'].map(len).max()"
   ]
  },
  {
   "cell_type": "markdown",
   "metadata": {},
   "source": [
    "comter longeur max dans colonne Nom_Client"
   ]
  },
  {
   "cell_type": "code",
   "execution_count": null,
   "metadata": {},
   "outputs": [],
   "source": [
    "#data_commandes['Nom_Client'].map(len).max()\n",
    "data_commandes['Nom_Client'].str.len().max()"
   ]
  },
  {
   "cell_type": "code",
   "execution_count": null,
   "metadata": {},
   "outputs": [],
   "source": [
    "listecolonnes = data_commandes.columns()\n",
    "listecolonnes"
   ]
  }
 ],
 "metadata": {
  "kernelspec": {
   "display_name": "base",
   "language": "python",
   "name": "python3"
  },
  "language_info": {
   "codemirror_mode": {
    "name": "ipython",
    "version": 3
   },
   "file_extension": ".py",
   "mimetype": "text/x-python",
   "name": "python",
   "nbconvert_exporter": "python",
   "pygments_lexer": "ipython3",
   "version": "3.11.4"
  },
  "orig_nbformat": 4
 },
 "nbformat": 4,
 "nbformat_minor": 2
}
