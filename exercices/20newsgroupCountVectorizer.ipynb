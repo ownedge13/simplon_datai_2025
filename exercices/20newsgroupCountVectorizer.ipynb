{
 "cells": [
  {
   "cell_type": "code",
   "execution_count": 16,
   "metadata": {},
   "outputs": [],
   "source": [
    "from sklearn.datasets import fetch_20newsgroups\n",
    "from sklearn.feature_extraction.text import CountVectorizer\n",
    "from sklearn.cluster import KMeans\n",
    "from sklearn.metrics.cluster import normalized_mutual_info_score, adjusted_mutual_info_score, silhouette_score"
   ]
  },
  {
   "cell_type": "code",
   "execution_count": 21,
   "metadata": {},
   "outputs": [],
   "source": [
    "\n",
    "train = fetch_20newsgroups(subset='train', remove=('headers', 'footers', 'quotes'))\n",
    "test = fetch_20newsgroups(subset='test', remove=('headers', 'footers', 'quotes'))\n",
    "vectorizer = CountVectorizer(stop_words='english')\n",
    "X_train = vectorizer.fit_transform(train.data)\n",
    "X_test = vectorizer.fit_transform(test.data)"
   ]
  },
  {
   "cell_type": "code",
   "execution_count": 24,
   "metadata": {},
   "outputs": [
    {
     "name": "stdout",
     "output_type": "stream",
     "text": [
      "0.007855628225413892\n",
      "0.0025738165408000346\n",
      "0.879938732997808\n"
     ]
    }
   ],
   "source": [
    "k = 20\n",
    "kmeans = KMeans(n_clusters=k, init='k-means++', max_iter=1000, n_init='auto', verbose=0)\n",
    "kmeans.fit(X_train)\n",
    "nmi = normalized_mutual_info_score(train.target, kmeans.labels_)\n",
    "ami = adjusted_mutual_info_score(train.target, kmeans.labels_)\n",
    "silhouette = silhouette_score(X_train, kmeans.labels_)\n",
    "\n",
    "print(nmi)\n",
    "print(ami)\n",
    "print(silhouette)"
   ]
  },
  {
   "cell_type": "code",
   "execution_count": 25,
   "metadata": {},
   "outputs": [
    {
     "name": "stderr",
     "output_type": "stream",
     "text": [
      "c:\\Users\\alaja\\anaconda3\\Lib\\site-packages\\sklearn\\cluster\\_kmeans.py:1412: FutureWarning: The default value of `n_init` will change from 10 to 'auto' in 1.4. Set the value of `n_init` explicitly to suppress the warning\n",
      "  super()._check_params_vs_input(X, default_n_init=10)\n"
     ]
    }
   ],
   "source": [
    "from sklearn.datasets import fetch_20newsgroups\n",
    "from sklearn.feature_extraction.text import CountVectorizer, TfidfVectorizer\n",
    "from sklearn.cluster import KMeans\n",
    "from sklearn.metrics.cluster import normalized_mutual_info_score, adjusted_mutual_info_score, silhouette_score\n",
    "\n",
    "# Load the dataset\n",
    "newsgroups = fetch_20newsgroups(subset='all', remove=('headers', 'footers', 'quotes'))\n",
    "\n",
    "# Vectorize the documents with CountVectorizer\n",
    "count_vectorizer = CountVectorizer(stop_words='english')\n",
    "X_count = count_vectorizer.fit_transform(newsgroups.data)\n",
    "\n",
    "# Vectorize the documents with TfidfVectorizer\n",
    "tfidf_vectorizer = TfidfVectorizer(stop_words='english')\n",
    "X_tfidf = tfidf_vectorizer.fit_transform(newsgroups.data)\n",
    "\n",
    "# Cluster the documents with KMeans using CountVectorizer\n",
    "kmeans_count = KMeans(n_clusters=20)\n",
    "kmeans_count.fit(X_count)\n",
    "\n",
    "# Cluster the documents with KMeans using TfidfVectorizer\n",
    "kmeans_tfidf = KMeans(n_clusters=20)\n",
    "kmeans_tfidf.fit(X_tfidf)\n",
    "\n",
    "# Compute the NMI, AMI, and Silhouette Coefficient for CountVectorizer\n",
    "nmi_count = normalized_mutual_info_score(newsgroups.target, kmeans_count.labels_)\n",
    "ami_count = adjusted_mutual_info_score(newsgroups.target, kmeans_count.labels_)\n",
    "silhouette_count = silhouette_score(X_count, kmeans_count.labels_)\n",
    "\n",
    "# Compute the NMI, AMI, and Silhouette Coefficient for TfidfVectorizer\n",
    "nmi_tfidf = normalized_mutual_info_score(newsgroups.target, kmeans_tfidf.labels_)\n",
    "ami_tfidf = adjusted_mutual_info_score(newsgroups.target, kmeans_tfidf.labels_)\n",
    "silhouette_tfidf = silhouette_score(X_tfidf, kmeans_tfidf.labels_)\n"
   ]
  },
  {
   "cell_type": "code",
   "execution_count": 26,
   "metadata": {},
   "outputs": [
    {
     "name": "stdout",
     "output_type": "stream",
     "text": [
      "nmi count : 0.004286212499423054\n",
      "ami count : 0.0016052885404538998\n",
      "silhouette count : 0.9108335947605655\n",
      "nmi tfidf : 0.3547000032588736\n",
      "ami tfidf : 0.35235976108466505\n",
      "silhouette tfidf : 0.0051505107824209315\n"
     ]
    }
   ],
   "source": [
    "print(\"nmi count :\", nmi_count)\n",
    "print(\"ami count :\", ami_count)\n",
    "print(\"silhouette count :\", silhouette_count)\n",
    "print(\"nmi tfidf :\", nmi_tfidf)\n",
    "print(\"ami tfidf :\", ami_tfidf)\n",
    "print(\"silhouette tfidf :\", silhouette_tfidf)"
   ]
  }
 ],
 "metadata": {
  "kernelspec": {
   "display_name": "base",
   "language": "python",
   "name": "python3"
  },
  "language_info": {
   "codemirror_mode": {
    "name": "ipython",
    "version": 3
   },
   "file_extension": ".py",
   "mimetype": "text/x-python",
   "name": "python",
   "nbconvert_exporter": "python",
   "pygments_lexer": "ipython3",
   "version": "3.11.5"
  }
 },
 "nbformat": 4,
 "nbformat_minor": 2
}
