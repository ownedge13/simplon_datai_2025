{
 "cells": [
  {
   "cell_type": "markdown",
   "metadata": {},
   "source": [
    "- Load and understand the **20 news groups** dataset.\n",
    "- Use clustering to find out the group of the document, but this time use train test split method to evaluate the results.\n",
    "- compare the results with two diffrerent vectorization approach : CountVectorizer and TfIDFVectorizer.\n",
    "- Compare the results of with another clusetring model called LDA ? https://scikit-learn.org/stable/modules/decomposition.html#latentdirichletallocation\n",
    "- Compare your clustering prédiction with a classic classification approach. Which one works better ? why ?"
   ]
  },
  {
   "cell_type": "code",
   "execution_count": 10,
   "metadata": {},
   "outputs": [
    {
     "name": "stdout",
     "output_type": "stream",
     "text": [
      "ARI CountVectorizer: 4.423780062323558e-05\n",
      "ARI Tf-IDF Vectorizer: 0.0783284740004759\n"
     ]
    }
   ],
   "source": [
    "from sklearn.datasets import fetch_20newsgroups\n",
    "from sklearn.feature_extraction.text import CountVectorizer, TfidfVectorizer\n",
    "from sklearn.model_selection import train_test_split\n",
    "from sklearn.cluster import KMeans\n",
    "from sklearn.metrics import adjusted_rand_score\n",
    "\n",
    "newsgroups = fetch_20newsgroups(subset='all', remove=('headers', 'footers', 'quotes'))\n",
    "\n",
    "X_train, X_test, y_train, y_test = train_test_split(newsgroups.data, newsgroups.target, test_size=0.2, random_state=42)\n",
    "\n",
    "# # Vectorizer CountVectorizer\n",
    "count_vectorizer = CountVectorizer(max_features=5000, stop_words='english')\n",
    "X_train_count = count_vectorizer.fit_transform(X_train)\n",
    "X_test_count = count_vectorizer.transform(X_test)\n",
    "\n",
    "# # Vectorizer TfidfVectorizer\n",
    "tfidf_vectorizer = TfidfVectorizer(max_features=5000, stop_words='english')\n",
    "X_train_tfidf = tfidf_vectorizer.fit_transform(X_train)\n",
    "X_test_tfidf = tfidf_vectorizer.transform(X_test)\n",
    "\n",
    "n_clusters = len(newsgroups.target_names)\n",
    "\n",
    "kmeans_count = KMeans(n_clusters=n_clusters, random_state=42, n_init=10)\n",
    "kmeans_tfidf = KMeans(n_clusters=n_clusters, random_state=42, n_init=10)\n",
    "\n",
    "y_pred_count = kmeans_count.fit_predict(X_train_count)\n",
    "y_pred_tfidf = kmeans_tfidf.fit_predict(X_train_tfidf)\n",
    "\n",
    "ari_count = adjusted_rand_score(y_train, y_pred_count)\n",
    "ari_tfidf = adjusted_rand_score(y_train, y_pred_tfidf)\n",
    "\n",
    "print(f\"ARI CountVectorizer: {ari_count}\")\n",
    "print(f\"ARI Tf-IDF Vectorizer: {ari_tfidf}\")\n",
    "\n",
    "#ARI = (RI - Expected_RI) / (max(RI) - Expected_RI)"
   ]
  },
  {
   "cell_type": "code",
   "execution_count": 11,
   "metadata": {},
   "outputs": [
    {
     "name": "stdout",
     "output_type": "stream",
     "text": [
      "ARI CountVectorizer: 0.17751061161166298\n",
      "ARI Tf-IDF Vectorizer: 0.09613244948287275\n"
     ]
    }
   ],
   "source": [
    "from sklearn.decomposition import LatentDirichletAllocation\n",
    "\n",
    "n_topics = len(newsgroups.target_names) \n",
    "\n",
    "lda_count = LatentDirichletAllocation(n_components=n_topics, random_state=42)\n",
    "lda_tfidf = LatentDirichletAllocation(n_components=n_topics, random_state=42)\n",
    "\n",
    "X_train_lda_count = lda_count.fit_transform(X_train_count)\n",
    "X_train_lda_tfidf = lda_tfidf.fit_transform(X_train_tfidf)\n",
    "\n",
    "y_pred_lda_count = X_train_lda_count.argmax(axis=1)\n",
    "y_pred_lda_tfidf = X_train_lda_tfidf.argmax(axis=1)\n",
    "\n",
    "ari_lda_count = adjusted_rand_score(y_train, y_pred_lda_count)\n",
    "ari_lda_tfidf = adjusted_rand_score(y_train, y_pred_lda_tfidf)\n",
    "\n",
    "print(f\"ARI CountVectorizer: {ari_lda_count}\")\n",
    "print(f\"ARI Tf-IDF Vectorizer: {ari_lda_tfidf}\")"
   ]
  },
  {
   "cell_type": "code",
   "execution_count": 12,
   "metadata": {},
   "outputs": [
    {
     "name": "stdout",
     "output_type": "stream",
     "text": [
      "Accuracy CountVectorizer Naive Bayes: 0.6363395225464191\n",
      "Accuracy Tf-IDF Naive Bayes: 0.6835543766578249\n",
      "Classification Report CountVectorizer Naive Bayes:\n",
      "                          precision    recall  f1-score   support\n",
      "\n",
      "             alt.atheism       0.47      0.61      0.53       151\n",
      "           comp.graphics       0.53      0.64      0.58       202\n",
      " comp.os.ms-windows.misc       0.78      0.04      0.07       195\n",
      "comp.sys.ibm.pc.hardware       0.44      0.69      0.54       183\n",
      "   comp.sys.mac.hardware       0.61      0.65      0.63       205\n",
      "          comp.windows.x       0.70      0.74      0.72       215\n",
      "            misc.forsale       0.80      0.63      0.71       193\n",
      "               rec.autos       0.66      0.75      0.70       196\n",
      "         rec.motorcycles       0.37      0.70      0.48       168\n",
      "      rec.sport.baseball       0.77      0.78      0.78       211\n",
      "        rec.sport.hockey       0.94      0.74      0.83       198\n",
      "               sci.crypt       0.85      0.67      0.75       201\n",
      "         sci.electronics       0.61      0.59      0.60       202\n",
      "                 sci.med       0.83      0.75      0.79       194\n",
      "               sci.space       0.82      0.65      0.72       189\n",
      "  soc.religion.christian       0.66      0.75      0.70       202\n",
      "      talk.politics.guns       0.61      0.69      0.65       188\n",
      "   talk.politics.mideast       0.84      0.68      0.75       182\n",
      "      talk.politics.misc       0.55      0.57      0.56       159\n",
      "      talk.religion.misc       0.40      0.26      0.32       136\n",
      "\n",
      "                accuracy                           0.64      3770\n",
      "               macro avg       0.66      0.63      0.62      3770\n",
      "            weighted avg       0.67      0.64      0.63      3770\n",
      "\n",
      "Classification Report Tf-IDF Naive Bayes:\n",
      "                          precision    recall  f1-score   support\n",
      "\n",
      "             alt.atheism       0.59      0.46      0.52       151\n",
      "           comp.graphics       0.58      0.63      0.61       202\n",
      " comp.os.ms-windows.misc       0.61      0.63      0.62       195\n",
      "comp.sys.ibm.pc.hardware       0.54      0.69      0.61       183\n",
      "   comp.sys.mac.hardware       0.76      0.62      0.69       205\n",
      "          comp.windows.x       0.81      0.79      0.80       215\n",
      "            misc.forsale       0.75      0.69      0.72       193\n",
      "               rec.autos       0.70      0.68      0.69       196\n",
      "         rec.motorcycles       0.42      0.73      0.53       168\n",
      "      rec.sport.baseball       0.83      0.79      0.81       211\n",
      "        rec.sport.hockey       0.90      0.87      0.88       198\n",
      "               sci.crypt       0.77      0.75      0.76       201\n",
      "         sci.electronics       0.73      0.57      0.64       202\n",
      "                 sci.med       0.81      0.80      0.81       194\n",
      "               sci.space       0.76      0.75      0.76       189\n",
      "  soc.religion.christian       0.53      0.86      0.65       202\n",
      "      talk.politics.guns       0.67      0.76      0.71       188\n",
      "   talk.politics.mideast       0.79      0.74      0.76       182\n",
      "      talk.politics.misc       0.75      0.50      0.60       159\n",
      "      talk.religion.misc       0.64      0.05      0.10       136\n",
      "\n",
      "                accuracy                           0.68      3770\n",
      "               macro avg       0.70      0.67      0.66      3770\n",
      "            weighted avg       0.70      0.68      0.68      3770\n",
      "\n"
     ]
    }
   ],
   "source": [
    "from sklearn.naive_bayes import MultinomialNB\n",
    "from sklearn.metrics import accuracy_score, classification_report\n",
    "\n",
    "# CountVectorizer\n",
    "nb_count = MultinomialNB()\n",
    "nb_count.fit(X_train_count, y_train)\n",
    "y_pred_count_nb = nb_count.predict(X_test_count)\n",
    "\n",
    "# Tf-IDF Vectorizer\n",
    "nb_tfidf = MultinomialNB()\n",
    "nb_tfidf.fit(X_train_tfidf, y_train)\n",
    "y_pred_tfidf_nb = nb_tfidf.predict(X_test_tfidf)\n",
    "\n",
    "accuracy_count = accuracy_score(y_test, y_pred_count_nb)\n",
    "accuracy_tfidf = accuracy_score(y_test, y_pred_tfidf_nb)\n",
    "\n",
    "classification_report_count = classification_report(y_test, y_pred_count_nb, target_names=newsgroups.target_names)\n",
    "classification_report_tfidf = classification_report(y_test, y_pred_tfidf_nb, target_names=newsgroups.target_names)\n",
    "\n",
    "print(\"Accuracy CountVectorizer Naive Bayes:\", accuracy_count)\n",
    "print(\"Accuracy Tf-IDF Naive Bayes:\", accuracy_tfidf)\n",
    "\n",
    "print(\"Classification Report CountVectorizer Naive Bayes:\")\n",
    "print(classification_report_count)\n",
    "\n",
    "print(\"Classification Report Tf-IDF Naive Bayes:\")\n",
    "print(classification_report_tfidf)"
   ]
  },
  {
   "cell_type": "markdown",
   "metadata": {},
   "source": [
    "Which one works better ? why ?\n",
    "\n",
    "MultinomialNB semble mieux marché car on a la liste des newsgroups\n"
   ]
  },
  {
   "cell_type": "markdown",
   "metadata": {},
   "source": [
    "conda create --solver=libmamba -n rapids-23.08 -c rapidsai -c conda-forge -c nvidia rapids=23.08 python=3.10 cuda-version=12.0"
   ]
  }
 ],
 "metadata": {
  "kernelspec": {
   "display_name": "base",
   "language": "python",
   "name": "python3"
  },
  "language_info": {
   "codemirror_mode": {
    "name": "ipython",
    "version": 3
   },
   "file_extension": ".py",
   "mimetype": "text/x-python",
   "name": "python",
   "nbconvert_exporter": "python",
   "pygments_lexer": "ipython3",
   "version": "3.11.5"
  }
 },
 "nbformat": 4,
 "nbformat_minor": 2
}
