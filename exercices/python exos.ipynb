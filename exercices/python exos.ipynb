{
 "cells": [
  {
   "cell_type": "markdown",
   "id": "090d178e",
   "metadata": {},
   "source": [
    "Exercice 1 Écrivez un programme qui demande à l'utilisateur de saisir un nombre entier positif et affiche tous les nombres de 1 jusqu'à ce nombre (inclus)."
   ]
  },
  {
   "cell_type": "code",
   "execution_count": 1,
   "id": "0ac54b02",
   "metadata": {},
   "outputs": [
    {
     "name": "stdout",
     "output_type": "stream",
     "text": [
      "[0, 1, 2, 3, 4, 5, 6, 7, 8, 9, 10, 11, 12, 13, 14, 15, 16, 17, 18, 19, 20, 21, 22, 23, 24, 25, 26, 27, 28, 29, 30, 31, 32, 33, 34, 35, 36, 37, 38, 39, 40, 41, 42, 43, 44, 45, 46, 47, 48, 49, 50, 51, 52]\n"
     ]
    }
   ],
   "source": [
    "#entrez un nombre entier positif\n",
    "n = int(input(\"entrez un nombre entier positif\"))\n",
    "#affiche de 1 au nombre entré\n",
    "sequence = range(n)\n",
    "print(list (sequence))"
   ]
  },
  {
   "cell_type": "markdown",
   "id": "a59bad2a",
   "metadata": {},
   "source": [
    "Exercice 2 Écrivez une fonction qui prend une liste de nombres en entrée et renvoie une nouvelle liste contenant uniquement les nombres positifs."
   ]
  },
  {
   "cell_type": "code",
   "execution_count": 2,
   "id": "8edc819c",
   "metadata": {},
   "outputs": [],
   "source": [
    "#entrez une liste de nombre\n",
    "num = int(input(\"entrez une liste de nombre\"))\n",
    "#affiche les nombres positifs de cette liste\n",
    "if num > 0:\n",
    "    print (num)\n",
    "else:\n",
    "    print(\"nombre négatif\")"
   ]
  },
  {
   "cell_type": "markdown",
   "id": "3641ea90",
   "metadata": {},
   "source": [
    "Exercice 3 Écrivez une fonction qui prend une liste de mots en entrée et renvoie une nouvelle liste contenant les mots dont la première lettre est une voyelle (a, e, i, o, u)."
   ]
  },
  {
   "cell_type": "code",
   "execution_count": null,
   "id": "02b2b003",
   "metadata": {},
   "outputs": [
    {
     "name": "stdout",
     "output_type": "stream",
     "text": [
      "entrez un nombre entier2\n",
      "positif\n"
     ]
    }
   ],
   "source": [
    "#entrez un nombre entier\n",
    "num = int(input(\"entrez un nombre entier\"))\n",
    "#affiche si chiffre positif negatif ou nul\n",
    "if num > 0:\n",
    "    print(\"positif\")\n",
    "if num == 0:\n",
    "    print(\"nul\")\n",
    "if num < 0:\n",
    "    print(\"négatif\")"
   ]
  },
  {
   "cell_type": "markdown",
   "id": "90918268",
   "metadata": {},
   "source": [
    "Exercice 4 Écrivez une fonction qui prend un nombre entier en entrée et affiche si ce nombre est positif, négatif ou nul."
   ]
  },
  {
   "cell_type": "code",
   "execution_count": null,
   "id": "e868b2e5",
   "metadata": {
    "scrolled": true
   },
   "outputs": [
    {
     "name": "stdout",
     "output_type": "stream",
     "text": [
      "entrez une liste de motsazerty blahblah\n",
      "['a', 'e', 'y', 'a', 'a']\n"
     ]
    }
   ],
   "source": [
    "#ensemble des voyelles\n",
    "voyelles = ['a','e','i','o','u','y']\n",
    "#mots = [\"test\", \"youpie\", \"blahblah\",\"azerty\"]\n",
    "#entrez une liste de mots\n",
    "mots = str(input(\"entrez une liste de mots\"))\n",
    "#mots qui débutent par une voyelle\n",
    "\n",
    "resultat = []\n",
    "\n",
    "for mot in mots:\n",
    "    if (mot[0] in voyelles):\n",
    "        resultat.append(mot)\n",
    "print(resultat)"
   ]
  },
  {
   "cell_type": "markdown",
   "id": "33228f6a",
   "metadata": {},
   "source": [
    "Exercice 5 Écrivez un programme qui demande à l'utilisateur de saisir un mot et affiche si ce mot contient plus de 5 caractères."
   ]
  },
  {
   "cell_type": "code",
   "execution_count": null,
   "id": "db1fa2a2",
   "metadata": {},
   "outputs": [
    {
     "name": "stdout",
     "output_type": "stream",
     "text": [
      "entrez un mot qui contient plus de 5 caractèrestesttest\n",
      "contient plus de 5 caractères\n"
     ]
    }
   ],
   "source": [
    "#entrez un mot\n",
    "n = str(input(\"entrez un mot qui contient plus de 5 caractères\"))\n",
    "#contient il plus de 5 caractères\n",
    "if n[5]:\n",
    "    print(\"contient plus de 5 caractères\")"
   ]
  },
  {
   "cell_type": "markdown",
   "id": "ee4ef28a",
   "metadata": {},
   "source": [
    "Exercice 6 Écrivez un programme qui demande à l'utilisateur de saisir 5 nombres entiers, acquisition clavier, les stocke dans une liste, puis affiche la liste."
   ]
  },
  {
   "cell_type": "code",
   "execution_count": null,
   "id": "5527a261",
   "metadata": {
    "scrolled": true
   },
   "outputs": [
    {
     "name": "stdout",
     "output_type": "stream",
     "text": [
      "rentrez 5 nombres entier1 2 3 4 5\n",
      "['1', '2', '3', '4', '5']\n"
     ]
    }
   ],
   "source": [
    "#demande à l'utilisateur de saisir 5 nombres\n",
    "liste = str.split(input(\"rentrez 5 nombres entier\"))\n",
    "#créé une liste et append les chiffres\n",
    "\n",
    "print(liste)"
   ]
  },
  {
   "cell_type": "markdown",
   "id": "ab0c0d07",
   "metadata": {},
   "source": [
    "Exercice 7. Écrivez une fonction qui prend une liste de nombres en entrée et renvoie la somme de tous les éléments de la liste."
   ]
  },
  {
   "cell_type": "code",
   "execution_count": null,
   "id": "449f21e3",
   "metadata": {
    "scrolled": true
   },
   "outputs": [
    {
     "name": "stdout",
     "output_type": "stream",
     "text": [
      "72\n"
     ]
    }
   ],
   "source": [
    "#serie de nombre\n",
    "liste = [4,6,8,54]\n",
    "#somme des nombres\n",
    "print(sum(liste))"
   ]
  },
  {
   "cell_type": "markdown",
   "id": "af32f782",
   "metadata": {},
   "source": [
    "Exercice 8. Écrivez une fonction qui prend une liste de mots en entrée et renvoie une nouvelle liste contenant la longueur de chaque mot."
   ]
  },
  {
   "cell_type": "code",
   "execution_count": null,
   "id": "03327c83",
   "metadata": {},
   "outputs": [
    {
     "data": {
      "text/plain": [
       "5"
      ]
     },
     "execution_count": 37,
     "metadata": {},
     "output_type": "execute_result"
    }
   ],
   "source": [
    "#liste de mots\n",
    "mots = [\"test\",\"azerty\",\"gnu\",\"toto\",\"tata\"]\n",
    "#compter lettres des mots\n",
    "len(mots)"
   ]
  },
  {
   "cell_type": "markdown",
   "id": "f7e8711a",
   "metadata": {},
   "source": [
    "Exercice 9. Écrivez une fonction qui prend une liste de nombres en entrée et renvoie une nouvelle liste contenant uniquement les nombres pairs de la liste initiale."
   ]
  },
  {
   "cell_type": "code",
   "execution_count": null,
   "id": "35fe0c76",
   "metadata": {},
   "outputs": [
    {
     "ename": "SyntaxError",
     "evalue": "invalid syntax (2234163983.py, line 4)",
     "output_type": "error",
     "traceback": [
      "\u001b[1;36m  Cell \u001b[1;32mIn[60], line 4\u001b[1;36m\u001b[0m\n\u001b[1;33m    print ((nombres) %2) == 0:\u001b[0m\n\u001b[1;37m                             ^\u001b[0m\n\u001b[1;31mSyntaxError\u001b[0m\u001b[1;31m:\u001b[0m invalid syntax\n"
     ]
    }
   ],
   "source": [
    "#liste de nombre\n",
    "nombres = [1,2,3,4]\n",
    "#afficher nombres pairs\n",
    "print ((nombres) %2) == 0:\n",
    "\n",
    "#def extract(l):\n",
    "#    pair = []\n",
    "#    impair = []\n",
    "#    for x in l:\n",
    "#        if(x%2 == 0):\n",
    "#            pair.append(x)"
   ]
  },
  {
   "cell_type": "markdown",
   "id": "3f1973c7",
   "metadata": {},
   "source": [
    "Exercice 10. Écrivez un programme qui prend une liste de mots en entrée, acquisition clavier, les trie par ordre alphabétique et affiche la liste triée."
   ]
  },
  {
   "cell_type": "code",
   "execution_count": null,
   "id": "5fdcb071",
   "metadata": {},
   "outputs": [
    {
     "name": "stdout",
     "output_type": "stream",
     "text": [
      "entrez une liste de motsab ca pa ta za\n"
     ]
    },
    {
     "data": {
      "text/plain": [
       "[' ', ' ', ' ', ' ', 'a', 'a', 'a', 'a', 'a', 'b', 'c', 'p', 't', 'z']"
      ]
     },
     "execution_count": 62,
     "metadata": {},
     "output_type": "execute_result"
    }
   ],
   "source": [
    "#liste de mots en entrée\n",
    "liste=str(input(\"entrez une liste de mots\"))\n",
    "#trier par ordre alphabetique\n",
    "trier_liste = sorted(liste)\n",
    "trier_liste"
   ]
  },
  {
   "cell_type": "markdown",
   "id": "8616e205",
   "metadata": {},
   "source": [
    "Exercice 11. Écrivez un programme qui demande à l'utilisateur de saisir une phrase et affiche le nombre de caractères de cette phrase (en comptant les espaces)."
   ]
  },
  {
   "cell_type": "code",
   "execution_count": null,
   "id": "28a4b973",
   "metadata": {},
   "outputs": [
    {
     "name": "stdout",
     "output_type": "stream",
     "text": [
      "entrez une phraseab ca pa ta za\n",
      "14\n"
     ]
    }
   ],
   "source": [
    "#demande de saisir une liste\n",
    "n = str(input(\"entrez une phrase\"))\n",
    "#compter le nombre de lettre dans la phrase\n",
    "print(len(n))"
   ]
  },
  {
   "cell_type": "markdown",
   "id": "ff45f68e",
   "metadata": {},
   "source": [
    "Exercice 12. Écrivez une fonction qui prend une chaîne de caractères en entrée et renvoie cette chaîne inversée."
   ]
  },
  {
   "cell_type": "code",
   "execution_count": null,
   "id": "e4b4eda6",
   "metadata": {},
   "outputs": [
    {
     "name": "stdout",
     "output_type": "stream",
     "text": [
      "efdrtgh\n"
     ]
    }
   ],
   "source": [
    "#chaine de caractère\n",
    "#chaine = [\"gjs\"]\n",
    "#fonction qui inverse la chaine\n",
    "#print (list.reverse(liste))\n",
    "#print(chaine)\n",
    "#chaine.reverse()\n",
    "chaine = (\"hgtrdfe\")\n",
    "\n",
    "print(chaine [::-1])"
   ]
  },
  {
   "cell_type": "markdown",
   "id": "74a1a43b",
   "metadata": {},
   "source": [
    "Exercice 13. Écrivez une fonction qui prend une chaîne de caractères en entrée et renvoie le nombre de mots dans cette chaîne (un mot est séparé par un espace)."
   ]
  },
  {
   "cell_type": "code",
   "execution_count": null,
   "id": "eab3f323",
   "metadata": {},
   "outputs": [
    {
     "name": "stdout",
     "output_type": "stream",
     "text": [
      "5\n"
     ]
    }
   ],
   "source": [
    "#chaine de caractères\n",
    "chaine = 'brian is in the kitchen'\n",
    "#nombre de mots dans la chaine\n",
    "result = len(chaine.split())\n",
    "print(str(result))"
   ]
  },
  {
   "cell_type": "markdown",
   "id": "add32644",
   "metadata": {},
   "source": [
    "Exercice 14. Écrivez une fonction qui prend une chaîne de caractères en entrée et renvoie une nouvelle chaîne où chaque mot est en majuscules."
   ]
  },
  {
   "cell_type": "code",
   "execution_count": null,
   "id": "475625b4",
   "metadata": {},
   "outputs": [
    {
     "name": "stdout",
     "output_type": "stream",
     "text": [
      "BRIAN IS IN THE KITCHEN\n"
     ]
    }
   ],
   "source": [
    "#chaine de caractères\n",
    "chaine = 'brian is in the kitchen'\n",
    "#convertir en majuscule\n",
    "uppercase_chaine=chaine.upper()\n",
    "print(uppercase_chaine)"
   ]
  },
  {
   "cell_type": "markdown",
   "id": "2e0aa536",
   "metadata": {},
   "source": [
    "Exercice 15. Écrivez une fonction qui prend une chaîne de caractères en entrée et renvoie True si cette chaîne est un palindrome (c'est-à-dire qu'elle se lit de la même manière de gauche à droite et de droite à gauche), sinon renvoie False."
   ]
  },
  {
   "cell_type": "code",
   "execution_count": null,
   "id": "6bbe3c27",
   "metadata": {},
   "outputs": [
    {
     "name": "stdout",
     "output_type": "stream",
     "text": [
      "Yes\n"
     ]
    }
   ],
   "source": [
    "#chaine de caractères\n",
    "chaine = 'abba abba abba'\n",
    "#test si palindrome\n",
    "w = \"\"\n",
    "for i in chaine:\n",
    "    w = i + w\n",
    " \n",
    "if (chaine == w):\n",
    "    print(\"Yes\")\n",
    "else:\n",
    "    print(\"No\")"
   ]
  },
  {
   "cell_type": "markdown",
   "id": "e55a8918",
   "metadata": {},
   "source": [
    "16. Écrivez un programme qui demande à l'utilisateur de deviner un nombre secret (par exemple 42). Le programme indique à l'utilisateur si le nombre à deviner est plus grand ou plus petit que sa proposition et continue de demander un nombre tant que l'utilisateur ne trouve pas le nombre secret. Une fois que l'utilisateur trouve le nombre secret, affichez un message de félicitations."
   ]
  },
  {
   "cell_type": "code",
   "execution_count": 3,
   "id": "338c9f86",
   "metadata": {},
   "outputs": [
    {
     "ename": "TypeError",
     "evalue": "'<' not supported between instances of 'int' and 'str'",
     "output_type": "error",
     "traceback": [
      "\u001b[1;31m---------------------------------------------------------------------------\u001b[0m",
      "\u001b[1;31mTypeError\u001b[0m                                 Traceback (most recent call last)",
      "\u001b[1;32mc:\\Users\\alaja\\python\\exos.ipynb Cell 32\u001b[0m line \u001b[0;36m8\n\u001b[0;32m      <a href='vscode-notebook-cell:/c%3A/Users/alaja/python/exos.ipynb#X43sZmlsZQ%3D%3D?line=5'>6</a>\u001b[0m     var \u001b[39m=\u001b[39m \u001b[39mint\u001b[39m(var)\n\u001b[0;32m      <a href='vscode-notebook-cell:/c%3A/Users/alaja/python/exos.ipynb#X43sZmlsZQ%3D%3D?line=6'>7</a>\u001b[0m \u001b[39m#eponse en fonction du nombre\u001b[39;00m\n\u001b[1;32m----> <a href='vscode-notebook-cell:/c%3A/Users/alaja/python/exos.ipynb#X43sZmlsZQ%3D%3D?line=7'>8</a>\u001b[0m     \u001b[39mif\u001b[39;00m var \u001b[39m<\u001b[39m n :\n\u001b[0;32m      <a href='vscode-notebook-cell:/c%3A/Users/alaja/python/exos.ipynb#X43sZmlsZQ%3D%3D?line=8'>9</a>\u001b[0m         appreciation \u001b[39m=\u001b[39m \u001b[39m\"\u001b[39m\u001b[39mbas\u001b[39m\u001b[39m\"\u001b[39m\n\u001b[0;32m     <a href='vscode-notebook-cell:/c%3A/Users/alaja/python/exos.ipynb#X43sZmlsZQ%3D%3D?line=9'>10</a>\u001b[0m         \u001b[39mprint\u001b[39m(var, appreciation)\n",
      "\u001b[1;31mTypeError\u001b[0m: '<' not supported between instances of 'int' and 'str'"
     ]
    }
   ],
   "source": [
    "#nombre à deviner\n",
    "n = '42'\n",
    "#demande à l'utilisateur de deviner le chiffre\n",
    "while True:\n",
    "    var = input(\"rentrez un nombre\")\n",
    "    var = int(var)\n",
    "#eponse en fonction du nombre\n",
    "    if var < n :\n",
    "        appreciation = \"bas\"\n",
    "        print(var, appreciation)\n",
    "\n",
    "    else :\n",
    "        appreciation = \"haut\"\n",
    "        print(var, appreciation)\n",
    "\n",
    "    if var == n:\n",
    "        appreciation = \"bon\"\n",
    "        print (var, appreciation)\n",
    "    break"
   ]
  },
  {
   "cell_type": "code",
   "execution_count": 1,
   "id": "836f1370",
   "metadata": {},
   "outputs": [],
   "source": [
    "while True:\n",
    "    var = input(\"Entrez un nombre\")\n",
    "    var = int(var)\n",
    "    if var < n :\n",
    "        appreciation = \"trop bas\"\n",
    "        print(var, appreciation)\n",
    "\n",
    "    else :\n",
    "        appreciation = \"trop haut\"\n",
    "        print(var, appreciation)\n",
    "    if var == n:\n",
    "        appreciation = \"bravo !\"\n",
    "        print(var, appreciation)\n",
    "        break"
   ]
  },
  {
   "cell_type": "markdown",
   "id": "cab7a2ef",
   "metadata": {},
   "source": [
    "17. Écrivez une fonction qui prend un nombre entier en entrée et affiche tous les nombres de 1 jusqu'à ce nombre (inclut) en utilisant une boucle \"while\"."
   ]
  },
  {
   "cell_type": "code",
   "execution_count": 12,
   "id": "61cfe22e",
   "metadata": {},
   "outputs": [
    {
     "name": "stdout",
     "output_type": "stream",
     "text": [
      "1\n",
      "2\n",
      "3\n",
      "4\n",
      "5\n",
      "6\n"
     ]
    }
   ],
   "source": [
    "#nombre\n",
    "n = (1)\n",
    "#input\n",
    "i = int(input(\"entrez un nombre\"))\n",
    "#boucle comptage\n",
    "while n <= i:\n",
    "    print(n)\n",
    "    n = n + 1"
   ]
  },
  {
   "cell_type": "markdown",
   "id": "3100e44c",
   "metadata": {},
   "source": [
    "Exercice 18. Écrivez une fonction qui prend une liste de nombres en entrée et renvoie une nouvelle liste contenant uniquement les nombres positifs en utilisant une boucle \"while\"."
   ]
  },
  {
   "cell_type": "code",
   "execution_count": 17,
   "id": "d7d5214e",
   "metadata": {},
   "outputs": [
    {
     "ename": "SyntaxError",
     "evalue": "invalid syntax (2907550418.py, line 3)",
     "output_type": "error",
     "traceback": [
      "\u001b[1;36m  Cell \u001b[1;32mIn[17], line 3\u001b[1;36m\u001b[0m\n\u001b[1;33m    while nombres = %2 == 0: (positifs.append)\u001b[0m\n\u001b[1;37m                  ^\u001b[0m\n\u001b[1;31mSyntaxError\u001b[0m\u001b[1;31m:\u001b[0m invalid syntax\n"
     ]
    }
   ],
   "source": [
    "nombres = int(input(\"entrez une liste de nombre\"))\n",
    "\n",
    "while nombres = %2 == 0: positifs.append()\n",
    "\n",
    "\"positifs\":[]\n",
    "\n",
    "print (positifs)\n",
    "\n",
    "\n"
   ]
  },
  {
   "cell_type": "markdown",
   "id": "9bbc232f",
   "metadata": {},
   "source": [
    "Exercice 19. Écrivez une fonction qui prend une liste de mots en entrée et renvoie une nouvelle liste contenant les mots dont la première lettre est une voyelle (a, e, i, o, u) en utilisant une boucle \"while\"."
   ]
  },
  {
   "cell_type": "code",
   "execution_count": null,
   "id": "d32fc969",
   "metadata": {},
   "outputs": [],
   "source": [
    "mots = [\"test\",\"toto\",\"eo\",\"ia\"]\n",
    "\n"
   ]
  },
  {
   "cell_type": "markdown",
   "id": "785d75b2",
   "metadata": {},
   "source": [
    "Exercice 20. Écrivez un programme qui demande à l'utilisateur de saisir un mot et affiche si ce mot contient plus de 5 caractères en utilisant une boucle \"while\"."
   ]
  },
  {
   "cell_type": "code",
   "execution_count": 135,
   "id": "aec1f0a1",
   "metadata": {},
   "outputs": [
    {
     "ename": "NameError",
     "evalue": "name 'np' is not defined",
     "output_type": "error",
     "traceback": [
      "\u001b[1;31m---------------------------------------------------------------------------\u001b[0m",
      "\u001b[1;31mNameError\u001b[0m                                 Traceback (most recent call last)",
      "Cell \u001b[1;32mIn[135], line 3\u001b[0m\n\u001b[0;32m      1\u001b[0m \u001b[38;5;28;01mimport\u001b[39;00m \u001b[38;5;21;01mmatplotlib\u001b[39;00m\u001b[38;5;21;01m.\u001b[39;00m\u001b[38;5;21;01mpyplot\u001b[39;00m \u001b[38;5;28;01mas\u001b[39;00m \u001b[38;5;21;01mplt\u001b[39;00m\n\u001b[1;32m----> 3\u001b[0m \u001b[38;5;28;01mdef\u001b[39;00m \u001b[38;5;21maffine\u001b[39m(a\u001b[38;5;241m=\u001b[39m\u001b[38;5;241m2\u001b[39m, b\u001b[38;5;241m=\u001b[39m\u001b[38;5;241m1\u001b[39m, x \u001b[38;5;241m=\u001b[39m np\u001b[38;5;241m.\u001b[39marrange(\u001b[38;5;241m-\u001b[39m\u001b[38;5;241m15\u001b[39m,\u001b[38;5;241m5\u001b[39m,\u001b[38;5;241m1\u001b[39m)):\n\u001b[0;32m      4\u001b[0m \u001b[38;5;250m    \u001b[39m\u001b[38;5;124;03m\"\"\"\u001b[39;00m\n\u001b[0;32m      5\u001b[0m \u001b[38;5;124;03m    \u001b[39;00m\n\u001b[0;32m      6\u001b[0m \u001b[38;5;124;03m    retourne la fonction affine en utilisant les paremètres\u001b[39;00m\n\u001b[1;32m   (...)\u001b[0m\n\u001b[0;32m     15\u001b[0m \u001b[38;5;124;03m    \u001b[39;00m\n\u001b[0;32m     16\u001b[0m \u001b[38;5;124;03m    \"\"\"\u001b[39;00m\n\u001b[0;32m     17\u001b[0m     y \u001b[38;5;241m=\u001b[39m a\u001b[38;5;241m*\u001b[39mx \u001b[38;5;241m+\u001b[39m b \n",
      "\u001b[1;31mNameError\u001b[0m: name 'np' is not defined"
     ]
    }
   ],
   "source": [
    "import matplotlib.pyplot as plt\n",
    "\n",
    "def affine(a=2, b=1, x = np.arrange(-15,5,1)):\n",
    "    \"\"\"\n",
    "    \n",
    "    retourne la fonction affine en utilisant les paremètres\n",
    "    \n",
    "    input:\n",
    "    a: coefficient directeur\n",
    "    b: ordonnée à l'origine\n",
    "    c: l'interval sur lequel on va tracer\n",
    "    \n",
    "    output:\n",
    "    y: \n",
    "    \n",
    "    \"\"\"\n",
    "    y = a*x + b \n",
    "    return y\n",
    "    \n",
    "    x,y = np.arange(-10,10)\n",
    "    plt.plot( x, affine(1,2 ) )\n",
    "    plt.grid()"
   ]
  },
  {
   "cell_type": "code",
   "execution_count": 138,
   "id": "fd85d096",
   "metadata": {},
   "outputs": [
    {
     "data": {
      "text/plain": [
       "5"
      ]
     },
     "execution_count": 138,
     "metadata": {},
     "output_type": "execute_result"
    }
   ],
   "source": [
    "def monmax(x):\n",
    "    max = x[0]\n",
    "    for indice in range(1,len(x)):\n",
    "        if x[indice]>max:\n",
    "            max = x[indice]\n",
    "    return max\n",
    "\n",
    "x = [1, 2, 5, 3]\n",
    "monmax(x)"
   ]
  },
  {
   "cell_type": "code",
   "execution_count": 139,
   "id": "4c677eff",
   "metadata": {},
   "outputs": [
    {
     "ename": "NameError",
     "evalue": "name 'np' is not defined",
     "output_type": "error",
     "traceback": [
      "\u001b[1;31m---------------------------------------------------------------------------\u001b[0m",
      "\u001b[1;31mNameError\u001b[0m                                 Traceback (most recent call last)",
      "Cell \u001b[1;32mIn[139], line 2\u001b[0m\n\u001b[0;32m      1\u001b[0m \u001b[38;5;28;01mimport\u001b[39;00m \u001b[38;5;21;01mmatplotlib\u001b[39;00m\u001b[38;5;21;01m.\u001b[39;00m\u001b[38;5;21;01mpyplot\u001b[39;00m \u001b[38;5;28;01mas\u001b[39;00m \u001b[38;5;21;01mplt\u001b[39;00m \n\u001b[1;32m----> 2\u001b[0m \u001b[38;5;28;01mdef\u001b[39;00m \u001b[38;5;21maffine\u001b[39m(a\u001b[38;5;241m=\u001b[39m\u001b[38;5;241m2\u001b[39m, b\u001b[38;5;241m=\u001b[39m\u001b[38;5;241m1\u001b[39m, x \u001b[38;5;241m=\u001b[39m np\u001b[38;5;241m.\u001b[39marange(\u001b[38;5;241m-\u001b[39m\u001b[38;5;241m15\u001b[39m,\u001b[38;5;241m5\u001b[39m,\u001b[38;5;241m1\u001b[39m)):\n\u001b[0;32m      3\u001b[0m \u001b[38;5;250m    \u001b[39m\u001b[38;5;124;03m\"\"\" \u001b[39;00m\n\u001b[0;32m      4\u001b[0m \u001b[38;5;124;03m    retourne la fonction affine en utilisant les paramètres\u001b[39;00m\n\u001b[0;32m      5\u001b[0m \n\u001b[1;32m   (...)\u001b[0m\n\u001b[0;32m     12\u001b[0m \u001b[38;5;124;03m    y: la fonction affine\u001b[39;00m\n\u001b[0;32m     13\u001b[0m \u001b[38;5;124;03m    \"\"\"\u001b[39;00m\n\u001b[0;32m     14\u001b[0m     y \u001b[38;5;241m=\u001b[39m a\u001b[38;5;241m*\u001b[39mx \u001b[38;5;241m+\u001b[39m b\n",
      "\u001b[1;31mNameError\u001b[0m: name 'np' is not defined"
     ]
    }
   ],
   "source": [
    "import matplotlib.pyplot as plt \n",
    "def affine(a=2, b=1, x = np.arange(-15,5,1)):\n",
    "    \"\"\" \n",
    "    retourne la fonction affine en utilisant les paramètres\n",
    "\n",
    "    input:\n",
    "    a: coefficient directeur\n",
    "    b: ordonnée à l'origine\n",
    "    x: l'interval sur lequel on va tracer\n",
    "\n",
    "    output:\n",
    "    y: la fonction affine\n",
    "    \"\"\"\n",
    "    y = a*x + b\n",
    "    return y, x \n",
    "\n",
    "x = np.arange(-10,10)"
   ]
  },
  {
   "cell_type": "code",
   "execution_count": 2,
   "id": "44c964ce",
   "metadata": {},
   "outputs": [
    {
     "ename": "NameError",
     "evalue": "name '__nom__' is not defined",
     "output_type": "error",
     "traceback": [
      "\u001b[1;31m---------------------------------------------------------------------------\u001b[0m",
      "\u001b[1;31mNameError\u001b[0m                                 Traceback (most recent call last)",
      "Cell \u001b[1;32mIn[2], line 6\u001b[0m\n\u001b[0;32m      2\u001b[0m     nom \u001b[38;5;241m=\u001b[39m test\n\u001b[0;32m      3\u001b[0m     age \u001b[38;5;241m=\u001b[39m \u001b[38;5;241m40\u001b[39m\n\u001b[1;32m----> 6\u001b[0m \u001b[38;5;28;01mif\u001b[39;00m __nom__ \u001b[38;5;241m==\u001b[39m \u001b[38;5;124m'\u001b[39m\u001b[38;5;124m__main__\u001b[39m\u001b[38;5;124m'\u001b[39m:\n\u001b[0;32m      7\u001b[0m     main()\n",
      "\u001b[1;31mNameError\u001b[0m: name '__nom__' is not defined"
     ]
    }
   ],
   "source": [
    "def main():\n",
    "    nom = test\n",
    "    age = 40\n",
    "\n",
    "if __name__ == '__main__'"
   ]
  }
 ],
 "metadata": {
  "kernelspec": {
   "display_name": "Python 3 (ipykernel)",
   "language": "python",
   "name": "python3"
  },
  "language_info": {
   "codemirror_mode": {
    "name": "ipython",
    "version": 3
   },
   "file_extension": ".py",
   "mimetype": "text/x-python",
   "name": "python",
   "nbconvert_exporter": "python",
   "pygments_lexer": "ipython3",
   "version": "3.11.4"
  },
  "toc-showmarkdowntxt": true
 },
 "nbformat": 4,
 "nbformat_minor": 5
}
