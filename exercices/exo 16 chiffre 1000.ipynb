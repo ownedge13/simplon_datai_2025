{
 "cells": [
  {
   "cell_type": "markdown",
   "metadata": {},
   "source": [
    "\"Écrivez un programme qui demande à l'utilisateur de deviner un nombre secret (par exemple 1000). Le programme indique à l'utilisateur si le nombre à deviner est plus grand ou plus petit que sa proposition et continue de demander un nombre tant que l'utilisateur ne trouve pas le nombre secret. Une fois que l'utilisateur trouve le nombre secret, affichez un message de félicitations.”"
   ]
  },
  {
   "cell_type": "code",
   "execution_count": 4,
   "metadata": {},
   "outputs": [
    {
     "name": "stdout",
     "output_type": "stream",
     "text": [
      "500 trop haut\n",
      "400 trop haut\n",
      "300 trop haut\n",
      "200 trop haut\n",
      "100 trop haut\n",
      "50 trop haut\n",
      "40 trop haut\n",
      "30 trop bas\n",
      "35 bon\n"
     ]
    }
   ],
   "source": [
    "#nombre à deviner\n",
    "\n",
    "import random\n",
    "n = random.randint(1, 1000)\n",
    "\n",
    "#demande à l'utilisateur de deviner le chiffre\n",
    "\n",
    "while True:\n",
    "    chiffre = int(input(\"entrez un nombre entier : \"))\n",
    "\n",
    "#reponse en fonction du nombre\n",
    "\n",
    "    if chiffre < n:\n",
    "        tropbas = \"trop bas\"\n",
    "        print(chiffre, tropbas)\n",
    "\n",
    "\n",
    "    elif chiffre > n:\n",
    "        trophaut = \"trop haut\"\n",
    "        print(chiffre, trophaut)\n",
    "\n",
    "\n",
    "    else:\n",
    "        fini = \"bon\"\n",
    "        print (chiffre, fini)\n",
    "        break"
   ]
  }
 ],
 "metadata": {
  "kernelspec": {
   "display_name": "base",
   "language": "python",
   "name": "python3"
  },
  "language_info": {
   "codemirror_mode": {
    "name": "ipython",
    "version": 3
   },
   "file_extension": ".py",
   "mimetype": "text/x-python",
   "name": "python",
   "nbconvert_exporter": "python",
   "pygments_lexer": "ipython3",
   "version": "3.11.4"
  },
  "orig_nbformat": 4
 },
 "nbformat": 4,
 "nbformat_minor": 2
}
