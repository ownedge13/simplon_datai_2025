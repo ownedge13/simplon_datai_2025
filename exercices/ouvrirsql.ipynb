{
 "cells": [
  {
   "cell_type": "code",
   "execution_count": null,
   "metadata": {},
   "outputs": [],
   "source": [
    "# create_table.py\n",
    "# with open (\"schema.sql\") as f:\n",
    "#     schema_sql=f.read()\n",
    "#     cursor.connect(schema_sql)"
   ]
  }
 ],
 "metadata": {
  "language_info": {
   "name": "python"
  },
  "orig_nbformat": 4
 },
 "nbformat": 4,
 "nbformat_minor": 2
}
