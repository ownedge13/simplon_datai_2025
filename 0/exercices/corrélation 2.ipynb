{
 "cells": [
  {
   "cell_type": "markdown",
   "metadata": {},
   "source": [
    "bewtween a cosinus and a sinus variables"
   ]
  },
  {
   "cell_type": "code",
   "execution_count": 16,
   "metadata": {},
   "outputs": [
    {
     "name": "stdout",
     "output_type": "stream",
     "text": [
      "0.054866687568036185\n"
     ]
    }
   ],
   "source": [
    "import numpy as np\n",
    "t = np.linspace(0, 10, 100)\n",
    "\n",
    "y = np.sin(t)\n",
    "\n",
    "x = np.cos(t)\n",
    "\n",
    "x1 = np.corrcoef(x, y)[0, 1]\n",
    "\n",
    "print(x1)"
   ]
  }
 ],
 "metadata": {
  "kernelspec": {
   "display_name": "base",
   "language": "python",
   "name": "python3"
  },
  "language_info": {
   "codemirror_mode": {
    "name": "ipython",
    "version": 3
   },
   "file_extension": ".py",
   "mimetype": "text/x-python",
   "name": "python",
   "nbconvert_exporter": "python",
   "pygments_lexer": "ipython3",
   "version": "3.11.4"
  },
  "orig_nbformat": 4
 },
 "nbformat": 4,
 "nbformat_minor": 2
}
