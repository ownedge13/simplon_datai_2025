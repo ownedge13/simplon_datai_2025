{
 "cells": [
  {
   "cell_type": "markdown",
   "metadata": {},
   "source": [
    "Euromillions 5 numéros entre 1 et 50 ainsi que 2 étoiles numérotées de 1 à 12"
   ]
  },
  {
   "cell_type": "code",
   "execution_count": 2,
   "metadata": {},
   "outputs": [
    {
     "name": "stdout",
     "output_type": "stream",
     "text": [
      "[31 34 49 44 28]\n",
      "[4 9]\n"
     ]
    }
   ],
   "source": [
    "import numpy as np\n",
    "\n",
    "#tirage\n",
    "tirage = np.arange(1,51)\n",
    "np.random.shuffle(tirage)\n",
    "print(tirage[:5])\n",
    "\n",
    "#etoiles\n",
    "etoiles = np.arange(1,13)\n",
    "np.random.shuffle(etoiles)\n",
    "print(etoiles[:2])\n",
    "\n"
   ]
  }
 ],
 "metadata": {
  "kernelspec": {
   "display_name": "base",
   "language": "python",
   "name": "python3"
  },
  "language_info": {
   "codemirror_mode": {
    "name": "ipython",
    "version": 3
   },
   "file_extension": ".py",
   "mimetype": "text/x-python",
   "name": "python",
   "nbconvert_exporter": "python",
   "pygments_lexer": "ipython3",
   "version": "3.11.4"
  },
  "orig_nbformat": 4
 },
 "nbformat": 4,
 "nbformat_minor": 2
}
